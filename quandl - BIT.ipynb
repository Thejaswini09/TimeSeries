{
 "cells": [
  {
   "cell_type": "code",
   "execution_count": 3,
   "id": "f58f91ec",
   "metadata": {},
   "outputs": [
    {
     "name": "stdout",
     "output_type": "stream",
     "text": [
      "Collecting nasdaq-data-link\n",
      "  Downloading Nasdaq_Data_Link-1.0.4-py2.py3-none-any.whl (28 kB)\n",
      "Requirement already satisfied: numpy>=1.8 in c:\\programdata\\anaconda3-2021.05\\lib\\site-packages (from nasdaq-data-link) (1.20.1)\n",
      "Requirement already satisfied: six in c:\\programdata\\anaconda3-2021.05\\lib\\site-packages (from nasdaq-data-link) (1.15.0)\n",
      "Collecting inflection>=0.3.1\n",
      "  Downloading inflection-0.5.1-py2.py3-none-any.whl (9.5 kB)\n",
      "Requirement already satisfied: requests>=2.7.0 in c:\\programdata\\anaconda3-2021.05\\lib\\site-packages (from nasdaq-data-link) (2.25.1)\n",
      "Requirement already satisfied: python-dateutil in c:\\programdata\\anaconda3-2021.05\\lib\\site-packages (from nasdaq-data-link) (2.8.1)\n",
      "Requirement already satisfied: pandas>=0.14 in c:\\programdata\\anaconda3-2021.05\\lib\\site-packages (from nasdaq-data-link) (1.2.4)\n",
      "Requirement already satisfied: more-itertools in c:\\programdata\\anaconda3-2021.05\\lib\\site-packages (from nasdaq-data-link) (8.7.0)\n",
      "Requirement already satisfied: pytz>=2017.3 in c:\\programdata\\anaconda3-2021.05\\lib\\site-packages (from pandas>=0.14->nasdaq-data-link) (2021.1)\n",
      "Requirement already satisfied: certifi>=2017.4.17 in c:\\programdata\\anaconda3-2021.05\\lib\\site-packages (from requests>=2.7.0->nasdaq-data-link) (2020.12.5)\n",
      "Requirement already satisfied: idna<3,>=2.5 in c:\\programdata\\anaconda3-2021.05\\lib\\site-packages (from requests>=2.7.0->nasdaq-data-link) (2.10)\n",
      "Requirement already satisfied: urllib3<1.27,>=1.21.1 in c:\\programdata\\anaconda3-2021.05\\lib\\site-packages (from requests>=2.7.0->nasdaq-data-link) (1.26.4)\n",
      "Requirement already satisfied: chardet<5,>=3.0.2 in c:\\programdata\\anaconda3-2021.05\\lib\\site-packages (from requests>=2.7.0->nasdaq-data-link) (4.0.0)\n",
      "Installing collected packages: inflection, nasdaq-data-link\n",
      "Successfully installed inflection-0.5.1 nasdaq-data-link-1.0.4\n"
     ]
    }
   ],
   "source": [
    "!pip install nasdaq-data-link\n",
    "import nasdaqdatalink"
   ]
  },
  {
   "cell_type": "code",
   "execution_count": 11,
   "id": "37098e93",
   "metadata": {},
   "outputs": [
    {
     "data": {
      "text/html": [
       "<div>\n",
       "<style scoped>\n",
       "    .dataframe tbody tr th:only-of-type {\n",
       "        vertical-align: middle;\n",
       "    }\n",
       "\n",
       "    .dataframe tbody tr th {\n",
       "        vertical-align: top;\n",
       "    }\n",
       "\n",
       "    .dataframe thead th {\n",
       "        text-align: right;\n",
       "    }\n",
       "</style>\n",
       "<table border=\"1\" class=\"dataframe\">\n",
       "  <thead>\n",
       "    <tr style=\"text-align: right;\">\n",
       "      <th></th>\n",
       "      <th>code</th>\n",
       "      <th>date</th>\n",
       "      <th>high</th>\n",
       "      <th>low</th>\n",
       "      <th>mid</th>\n",
       "      <th>last</th>\n",
       "      <th>bid</th>\n",
       "      <th>ask</th>\n",
       "      <th>volume</th>\n",
       "    </tr>\n",
       "    <tr>\n",
       "      <th>None</th>\n",
       "      <th></th>\n",
       "      <th></th>\n",
       "      <th></th>\n",
       "      <th></th>\n",
       "      <th></th>\n",
       "      <th></th>\n",
       "      <th></th>\n",
       "      <th></th>\n",
       "      <th></th>\n",
       "    </tr>\n",
       "  </thead>\n",
       "  <tbody>\n",
       "    <tr>\n",
       "      <th>0</th>\n",
       "      <td>ZRXUSD</td>\n",
       "      <td>2024-04-12</td>\n",
       "      <td>0.64836</td>\n",
       "      <td>0.49444</td>\n",
       "      <td>0.535945</td>\n",
       "      <td>0.53398</td>\n",
       "      <td>0.53586</td>\n",
       "      <td>0.53603</td>\n",
       "      <td>856430.342399</td>\n",
       "    </tr>\n",
       "  </tbody>\n",
       "</table>\n",
       "</div>"
      ],
      "text/plain": [
       "        code       date     high      low       mid     last      bid  \\\n",
       "None                                                                    \n",
       "0     ZRXUSD 2024-04-12  0.64836  0.49444  0.535945  0.53398  0.53586   \n",
       "\n",
       "          ask         volume  \n",
       "None                          \n",
       "0     0.53603  856430.342399  "
      ]
     },
     "execution_count": 11,
     "metadata": {},
     "output_type": "execute_result"
    }
   ],
   "source": [
    "nasdaqdatalink.ApiConfig.api_key = 'b3XwSPRWppWQVjfQirm1'\n",
    "nasdaqdatalink.get_table('QDL/BITFINEX',date='2024-04-12', code='ZRXUSD')"
   ]
  },
  {
   "cell_type": "code",
   "execution_count": 8,
   "id": "52adea39",
   "metadata": {},
   "outputs": [],
   "source": [
    "data = nasdaqdatalink.get_table(\"QDL/BITFINEX\", paginate=True)"
   ]
  },
  {
   "cell_type": "code",
   "execution_count": 10,
   "id": "b24d962f",
   "metadata": {},
   "outputs": [
    {
     "data": {
      "text/plain": [
       "None\n",
       "0           ZRXUSD\n",
       "1           ZRXUSD\n",
       "2           ZRXUSD\n",
       "3           ZRXUSD\n",
       "4           ZRXUSD\n",
       "            ...   \n",
       "813828    1INCHUSD\n",
       "813829    1INCHUSD\n",
       "813830    1INCHUSD\n",
       "813831    1INCHUSD\n",
       "813832    1INCHUSD\n",
       "Name: code, Length: 813833, dtype: object"
      ]
     },
     "execution_count": 10,
     "metadata": {},
     "output_type": "execute_result"
    }
   ],
   "source": [
    "data['code']"
   ]
  },
  {
   "cell_type": "code",
   "execution_count": null,
   "id": "be93dc04",
   "metadata": {},
   "outputs": [],
   "source": []
  }
 ],
 "metadata": {
  "kernelspec": {
   "display_name": "Python 3",
   "language": "python",
   "name": "python3"
  },
  "language_info": {
   "codemirror_mode": {
    "name": "ipython",
    "version": 3
   },
   "file_extension": ".py",
   "mimetype": "text/x-python",
   "name": "python",
   "nbconvert_exporter": "python",
   "pygments_lexer": "ipython3",
   "version": "3.8.8"
  }
 },
 "nbformat": 4,
 "nbformat_minor": 5
}
